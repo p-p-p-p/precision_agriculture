{
  "nbformat": 4,
  "nbformat_minor": 0,
  "metadata": {
    "colab": {
      "provenance": []
    },
    "kernelspec": {
      "name": "python3",
      "display_name": "Python 3"
    },
    "language_info": {
      "name": "python"
    }
  },
  "cells": [
    {
      "cell_type": "code",
      "execution_count": 1,
      "metadata": {
        "colab": {
          "base_uri": "https://localhost:8080/"
        },
        "id": "SQHcPPofaSp1",
        "outputId": "c3fcaf2a-99df-4794-efda-c5d63d1f6cf1"
      },
      "outputs": [
        {
          "output_type": "stream",
          "name": "stdout",
          "text": [
            "/content\n",
            "Cloning into 'precision_agriculture'...\n",
            "remote: Enumerating objects: 44, done.\u001b[K\n",
            "remote: Counting objects: 100% (44/44), done.\u001b[K\n",
            "remote: Compressing objects: 100% (37/37), done.\u001b[K\n",
            "remote: Total 44 (delta 4), reused 0 (delta 0), pack-reused 0 (from 0)\u001b[K\n",
            "Receiving objects: 100% (44/44), 47.73 KiB | 775.00 KiB/s, done.\n",
            "Resolving deltas: 100% (4/4), done.\n"
          ]
        }
      ],
      "source": [
        "#@title Download Dataset\n",
        "%cd /content/\n",
        "!git clone https://github.com/p-p-p-p/precision_agriculture.git\n",
        "!rm -rf /content/dataset"
      ]
    },
    {
      "cell_type": "code",
      "source": [
        "#@title Clean Dataset\n",
        "import pandas as pd\n",
        "import os\n",
        "\n",
        "# Source and destination folders\n",
        "source_folder = \"/content/precision_agriculture/data/raw\"\n",
        "clean_folder = \"/content/Dataset\"\n",
        "\n",
        "# Create destination folder if not exists\n",
        "os.makedirs(clean_folder, exist_ok=True)\n",
        "\n",
        "# Smoothing window size\n",
        "window_size = 5\n",
        "csv_list=[]\n",
        "# Copy, rename, clean, and save\n",
        "for file_name in os.listdir(source_folder):\n",
        "    if file_name.endswith(\".csv\"):\n",
        "        new_name = file_name.replace(\"spectral_signature_\", \"\")\n",
        "        src_path = os.path.join(source_folder, file_name)\n",
        "        dst_path = os.path.join(clean_folder, new_name)\n",
        "\n",
        "        # Read and clean the data\n",
        "        df = pd.read_csv(src_path)\n",
        "        df.rename(columns={'reflectance': 'raw_reflectance'}, inplace=True)\n",
        "        df['reflectance'] = df['raw_reflectance'].rolling(window=window_size, center=True).mean()\n",
        "        df.dropna(inplace=True)\n",
        "\n",
        "        # Save the cleaned data\n",
        "        df.to_csv(dst_path, index=False)\n",
        "        csv_list.append(dst_path)\n",
        "csv_list"
      ],
      "metadata": {
        "colab": {
          "base_uri": "https://localhost:8080/"
        },
        "id": "U_ldIBtla5A1",
        "outputId": "587c01fb-1841-410e-d5a5-c4360f7d2634"
      },
      "execution_count": 2,
      "outputs": [
        {
          "output_type": "execute_result",
          "data": {
            "text/plain": [
              "['/content/Dataset/eggplant_anand.csv',\n",
              " '/content/Dataset/cucumber_kota.csv',\n",
              " '/content/Dataset/mango_talala.csv',\n",
              " '/content/Dataset/tomato_maddur.csv',\n",
              " '/content/Dataset/cotton_maddur.csv',\n",
              " '/content/Dataset/mango_anand.csv',\n",
              " '/content/Dataset/onion_jhagdia.csv',\n",
              " '/content/Dataset/sapota_talala.csv',\n",
              " '/content/Dataset/mustard_kota.csv',\n",
              " '/content/Dataset/banana_anand.csv',\n",
              " '/content/Dataset/sugarcane_jhagdia.csv',\n",
              " '/content/Dataset/wheat_jhagdia.csv',\n",
              " '/content/Dataset/legumes_anand.csv',\n",
              " '/content/Dataset/banana_jhagdia.csv',\n",
              " '/content/Dataset/wheat_kota.csv']"
            ]
          },
          "metadata": {},
          "execution_count": 2
        }
      ]
    },
    {
      "cell_type": "code",
      "source": [
        "import shutil\n",
        "\n",
        "# Create ZIP archive\n",
        "shutil.make_archive('/content/data', 'zip', '/content/precision_agriculture/data/raw')\n",
        "\n",
        "#download processed dataset\n",
        "from google.colab import files\n",
        "files.download('/content/data.zip')"
      ],
      "metadata": {
        "colab": {
          "base_uri": "https://localhost:8080/",
          "height": 17
        },
        "id": "874eVumVbHzO",
        "outputId": "ba0740ec-0945-4923-bed1-d6892a4dce98"
      },
      "execution_count": 3,
      "outputs": [
        {
          "output_type": "display_data",
          "data": {
            "text/plain": [
              "<IPython.core.display.Javascript object>"
            ],
            "application/javascript": [
              "\n",
              "    async function download(id, filename, size) {\n",
              "      if (!google.colab.kernel.accessAllowed) {\n",
              "        return;\n",
              "      }\n",
              "      const div = document.createElement('div');\n",
              "      const label = document.createElement('label');\n",
              "      label.textContent = `Downloading \"${filename}\": `;\n",
              "      div.appendChild(label);\n",
              "      const progress = document.createElement('progress');\n",
              "      progress.max = size;\n",
              "      div.appendChild(progress);\n",
              "      document.body.appendChild(div);\n",
              "\n",
              "      const buffers = [];\n",
              "      let downloaded = 0;\n",
              "\n",
              "      const channel = await google.colab.kernel.comms.open(id);\n",
              "      // Send a message to notify the kernel that we're ready.\n",
              "      channel.send({})\n",
              "\n",
              "      for await (const message of channel.messages) {\n",
              "        // Send a message to notify the kernel that we're ready.\n",
              "        channel.send({})\n",
              "        if (message.buffers) {\n",
              "          for (const buffer of message.buffers) {\n",
              "            buffers.push(buffer);\n",
              "            downloaded += buffer.byteLength;\n",
              "            progress.value = downloaded;\n",
              "          }\n",
              "        }\n",
              "      }\n",
              "      const blob = new Blob(buffers, {type: 'application/binary'});\n",
              "      const a = document.createElement('a');\n",
              "      a.href = window.URL.createObjectURL(blob);\n",
              "      a.download = filename;\n",
              "      div.appendChild(a);\n",
              "      a.click();\n",
              "      div.remove();\n",
              "    }\n",
              "  "
            ]
          },
          "metadata": {}
        },
        {
          "output_type": "display_data",
          "data": {
            "text/plain": [
              "<IPython.core.display.Javascript object>"
            ],
            "application/javascript": [
              "download(\"download_ca9e4f74-7f0d-4b00-beaa-03154ad04098\", \"data.zip\", 49203)"
            ]
          },
          "metadata": {}
        }
      ]
    }
  ]
}